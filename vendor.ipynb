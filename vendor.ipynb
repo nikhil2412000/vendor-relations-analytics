{
 "cells": [
  {
   "cell_type": "code",
   "execution_count": 15,
   "id": "bfe6a922",
   "metadata": {},
   "outputs": [
    {
     "name": "stdout",
     "output_type": "stream",
     "text": [
      "purchases.csv\n",
      "purchase_prices.csv\n",
      "vendor_invoice.csv\n",
      "begin_inventory.csv\n",
      "end_inventory.csv\n",
      "sales.csv\n"
     ]
    }
   ],
   "source": [
    "import pandas as pd\n",
    "import os\n",
    "from sqlalchemy import create_engine\n",
    "import logging\n",
    "import time\n",
    "\n",
    "logging.basicConfig(\n",
    "    filename=\"logs/ingestion_db.log\",\n",
    "    level=logging.DEBUG,\n",
    "    format=\"%(asctime)s - %(levelname)s - %(message)s\",\n",
    "    filemode=\"a\"\n",
    ")\n",
    "\n",
    "engine = create_engine('sqlite:///inventory.db')\n",
    "def ingest_db(df, table_name, engine):\n",
    "   '''This function ingest the dataframe into database table'''\n",
    "   df.to_sql(table_name, con=engine, if_exists='replace', index=False)\n",
    "def load_raw_data():\n",
    "    '''this function will load the CSVs as dataframe and ingest into db'''\n",
    "    start = time.time()\n",
    "    for file in os.listdir('/Users/nikhilkumar/Downloads/data'):\n",
    "        if '.csv' in file:\n",
    "            print(file)\n",
    "            df = pd.read_csv('/Users/nikhilkumar/Downloads/data/'+file)\n",
    "            logging.info(f'Ingesting {file} in db')\n",
    "            ingest_db (df, file[:-4], engine) # type: ignore\n",
    "    end = time.time()\n",
    "    total_time = (end - start)/60\n",
    "    logging.info('Ingestion Complete')\n",
    "    logging.info(f'Total time taken: {total_time} minutes')\n",
    "\n",
    "if __name__ == '__main__':\n",
    "    load_raw_data()"
   ]
  },
  {
   "cell_type": "code",
   "execution_count": null,
   "id": "71d9b8be",
   "metadata": {},
   "outputs": [],
   "source": []
  }
 ],
 "metadata": {
  "kernelspec": {
   "display_name": ".venv",
   "language": "python",
   "name": "python3"
  },
  "language_info": {
   "codemirror_mode": {
    "name": "ipython",
    "version": 3
   },
   "file_extension": ".py",
   "mimetype": "text/x-python",
   "name": "python",
   "nbconvert_exporter": "python",
   "pygments_lexer": "ipython3",
   "version": "3.13.5"
  }
 },
 "nbformat": 4,
 "nbformat_minor": 5
}
